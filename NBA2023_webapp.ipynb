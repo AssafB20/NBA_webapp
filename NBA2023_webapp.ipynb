{
 "cells": [
  {
   "cell_type": "code",
   "execution_count": 1,
   "id": "62093638",
   "metadata": {
    "scrolled": true
   },
   "outputs": [],
   "source": [
    "url = 'https://www.basketball-reference.com/leagues/NBA_2023_standings.html#all_confs_standings_E'"
   ]
  },
  {
   "cell_type": "code",
   "execution_count": 29,
   "id": "45f657c5",
   "metadata": {},
   "outputs": [],
   "source": [
    "#!pip install requests\n"
   ]
  },
  {
   "cell_type": "code",
   "execution_count": 30,
   "id": "7f7a8d65",
   "metadata": {},
   "outputs": [],
   "source": [
    "#!pip install pandas"
   ]
  },
  {
   "cell_type": "code",
   "execution_count": 31,
   "id": "05dbbcb7",
   "metadata": {},
   "outputs": [],
   "source": [
    "#!pip install beautifulsoup4"
   ]
  },
  {
   "cell_type": "code",
   "execution_count": 32,
   "id": "8e4f4c89",
   "metadata": {},
   "outputs": [],
   "source": [
    "#!pip install ipywidgets"
   ]
  },
  {
   "cell_type": "code",
   "execution_count": 33,
   "id": "846d23ed",
   "metadata": {},
   "outputs": [],
   "source": [
    "#!jupyter nbextension enable --py widgetsnbextension --sys-prefix;"
   ]
  },
  {
   "cell_type": "code",
   "execution_count": 34,
   "id": "f8194d26",
   "metadata": {},
   "outputs": [],
   "source": [
    "#!jupyter serverextension enable voila --sys-prefix;"
   ]
  },
  {
   "cell_type": "code",
   "execution_count": 35,
   "id": "513d996a",
   "metadata": {},
   "outputs": [],
   "source": [
    "#!pip install lxml"
   ]
  },
  {
   "cell_type": "code",
   "execution_count": 9,
   "id": "159447e1",
   "metadata": {},
   "outputs": [],
   "source": [
    "import requests\n",
    "\n",
    "data = requests.get(url)\n",
    "\n",
    "with open(\"stats.html\", \"w+\") as f:\n",
    "        f.write(data.text)"
   ]
  },
  {
   "cell_type": "code",
   "execution_count": 10,
   "id": "737a5537",
   "metadata": {},
   "outputs": [],
   "source": [
    "from bs4 import BeautifulSoup "
   ]
  },
  {
   "cell_type": "code",
   "execution_count": 11,
   "id": "55fe78a9",
   "metadata": {},
   "outputs": [],
   "source": [
    "with open(\"stats.html\") as f:\n",
    "    page = f.read()\n",
    "    \n",
    "soup = BeautifulSoup(page, 'html.parser')"
   ]
  },
  {
   "cell_type": "code",
   "execution_count": 12,
   "id": "6700fafd",
   "metadata": {},
   "outputs": [],
   "source": [
    "confs_standings_E = soup.find(id='confs_standings_E')\n",
    "confs_standings_W = soup.find(id='confs_standings_W')"
   ]
  },
  {
   "cell_type": "code",
   "execution_count": 13,
   "id": "a0e59126",
   "metadata": {},
   "outputs": [],
   "source": [
    "import pandas as pd"
   ]
  },
  {
   "cell_type": "code",
   "execution_count": 14,
   "id": "bf724615",
   "metadata": {},
   "outputs": [],
   "source": [
    "confs_standings = pd.read_html(str(confs_standings_E) + str(confs_standings_W))\n",
    "#confs_standings_W = pd.read_html(str(confs_standings_W))"
   ]
  },
  {
   "cell_type": "code",
   "execution_count": 15,
   "id": "5c1ad9a0",
   "metadata": {},
   "outputs": [],
   "source": [
    "df_E = confs_standings[0]\n",
    "df_W = confs_standings[1]\n",
    "df_E.rename({'Eastern Conference': 'Team'}, axis=1, inplace=True)\n",
    "df_W.rename({'Western Conference': 'Team'}, axis=1, inplace=True)"
   ]
  },
  {
   "cell_type": "code",
   "execution_count": 16,
   "id": "98e638be",
   "metadata": {
    "scrolled": true
   },
   "outputs": [
    {
     "data": {
      "text/html": [
       "<div>\n",
       "<style scoped>\n",
       "    .dataframe tbody tr th:only-of-type {\n",
       "        vertical-align: middle;\n",
       "    }\n",
       "\n",
       "    .dataframe tbody tr th {\n",
       "        vertical-align: top;\n",
       "    }\n",
       "\n",
       "    .dataframe thead th {\n",
       "        text-align: right;\n",
       "    }\n",
       "</style>\n",
       "<table border=\"1\" class=\"dataframe\">\n",
       "  <thead>\n",
       "    <tr style=\"text-align: right;\">\n",
       "      <th></th>\n",
       "      <th>Team</th>\n",
       "      <th>W</th>\n",
       "      <th>L</th>\n",
       "      <th>W/L%</th>\n",
       "      <th>GB</th>\n",
       "      <th>PS/G</th>\n",
       "      <th>PA/G</th>\n",
       "      <th>SRS</th>\n",
       "    </tr>\n",
       "  </thead>\n",
       "  <tbody>\n",
       "    <tr>\n",
       "      <th>0</th>\n",
       "      <td>Boston Celtics (1)</td>\n",
       "      <td>2</td>\n",
       "      <td>0</td>\n",
       "      <td>1.0</td>\n",
       "      <td>—</td>\n",
       "      <td>118.5</td>\n",
       "      <td>110.5</td>\n",
       "      <td>-6.67</td>\n",
       "    </tr>\n",
       "    <tr>\n",
       "      <th>1</th>\n",
       "      <td>Washington Wizards (1)</td>\n",
       "      <td>2</td>\n",
       "      <td>0</td>\n",
       "      <td>1.0</td>\n",
       "      <td>—</td>\n",
       "      <td>108.0</td>\n",
       "      <td>103.5</td>\n",
       "      <td>-3.00</td>\n",
       "    </tr>\n",
       "    <tr>\n",
       "      <th>2</th>\n",
       "      <td>Atlanta Hawks (1)</td>\n",
       "      <td>2</td>\n",
       "      <td>0</td>\n",
       "      <td>1.0</td>\n",
       "      <td>—</td>\n",
       "      <td>112.5</td>\n",
       "      <td>102.5</td>\n",
       "      <td>3.00</td>\n",
       "    </tr>\n",
       "    <tr>\n",
       "      <th>3</th>\n",
       "      <td>Milwaukee Bucks (1)</td>\n",
       "      <td>1</td>\n",
       "      <td>0</td>\n",
       "      <td>1.0</td>\n",
       "      <td>0.5</td>\n",
       "      <td>90.0</td>\n",
       "      <td>88.0</td>\n",
       "      <td>-13.67</td>\n",
       "    </tr>\n",
       "    <tr>\n",
       "      <th>4</th>\n",
       "      <td>Charlotte Hornets (5)</td>\n",
       "      <td>1</td>\n",
       "      <td>1</td>\n",
       "      <td>0.5</td>\n",
       "      <td>1.0</td>\n",
       "      <td>120.5</td>\n",
       "      <td>113.0</td>\n",
       "      <td>19.33</td>\n",
       "    </tr>\n",
       "    <tr>\n",
       "      <th>5</th>\n",
       "      <td>Chicago Bulls (5)</td>\n",
       "      <td>1</td>\n",
       "      <td>1</td>\n",
       "      <td>0.5</td>\n",
       "      <td>1.0</td>\n",
       "      <td>108.0</td>\n",
       "      <td>105.0</td>\n",
       "      <td>-5.67</td>\n",
       "    </tr>\n",
       "    <tr>\n",
       "      <th>6</th>\n",
       "      <td>Toronto Raptors (5)</td>\n",
       "      <td>1</td>\n",
       "      <td>1</td>\n",
       "      <td>0.5</td>\n",
       "      <td>1.0</td>\n",
       "      <td>106.5</td>\n",
       "      <td>107.0</td>\n",
       "      <td>6.00</td>\n",
       "    </tr>\n",
       "    <tr>\n",
       "      <th>7</th>\n",
       "      <td>Detroit Pistons (5)</td>\n",
       "      <td>1</td>\n",
       "      <td>1</td>\n",
       "      <td>0.5</td>\n",
       "      <td>1.0</td>\n",
       "      <td>109.5</td>\n",
       "      <td>119.5</td>\n",
       "      <td>-11.00</td>\n",
       "    </tr>\n",
       "    <tr>\n",
       "      <th>8</th>\n",
       "      <td>New York Knicks (5)</td>\n",
       "      <td>1</td>\n",
       "      <td>1</td>\n",
       "      <td>0.5</td>\n",
       "      <td>1.0</td>\n",
       "      <td>121.0</td>\n",
       "      <td>110.5</td>\n",
       "      <td>10.67</td>\n",
       "    </tr>\n",
       "    <tr>\n",
       "      <th>9</th>\n",
       "      <td>Brooklyn Nets (5)</td>\n",
       "      <td>1</td>\n",
       "      <td>1</td>\n",
       "      <td>0.5</td>\n",
       "      <td>1.0</td>\n",
       "      <td>108.5</td>\n",
       "      <td>117.5</td>\n",
       "      <td>9.33</td>\n",
       "    </tr>\n",
       "    <tr>\n",
       "      <th>10</th>\n",
       "      <td>Cleveland Cavaliers (11)</td>\n",
       "      <td>0</td>\n",
       "      <td>1</td>\n",
       "      <td>0.0</td>\n",
       "      <td>1.5</td>\n",
       "      <td>105.0</td>\n",
       "      <td>108.0</td>\n",
       "      <td>2.33</td>\n",
       "    </tr>\n",
       "    <tr>\n",
       "      <th>11</th>\n",
       "      <td>Indiana Pacers (11)</td>\n",
       "      <td>0</td>\n",
       "      <td>2</td>\n",
       "      <td>0.0</td>\n",
       "      <td>2.0</td>\n",
       "      <td>120.5</td>\n",
       "      <td>125.5</td>\n",
       "      <td>-10.67</td>\n",
       "    </tr>\n",
       "    <tr>\n",
       "      <th>12</th>\n",
       "      <td>Miami Heat (11)</td>\n",
       "      <td>0</td>\n",
       "      <td>2</td>\n",
       "      <td>0.0</td>\n",
       "      <td>2.0</td>\n",
       "      <td>106.0</td>\n",
       "      <td>113.5</td>\n",
       "      <td>-13.00</td>\n",
       "    </tr>\n",
       "    <tr>\n",
       "      <th>13</th>\n",
       "      <td>Orlando Magic (11)</td>\n",
       "      <td>0</td>\n",
       "      <td>2</td>\n",
       "      <td>0.0</td>\n",
       "      <td>2.0</td>\n",
       "      <td>103.5</td>\n",
       "      <td>110.5</td>\n",
       "      <td>-9.33</td>\n",
       "    </tr>\n",
       "    <tr>\n",
       "      <th>14</th>\n",
       "      <td>Philadelphia 76ers (11)</td>\n",
       "      <td>0</td>\n",
       "      <td>2</td>\n",
       "      <td>0.0</td>\n",
       "      <td>2.0</td>\n",
       "      <td>102.5</td>\n",
       "      <td>108.0</td>\n",
       "      <td>-15.00</td>\n",
       "    </tr>\n",
       "    <tr>\n",
       "      <th>15</th>\n",
       "      <td>Memphis Grizzlies (1)</td>\n",
       "      <td>2</td>\n",
       "      <td>0</td>\n",
       "      <td>1.0</td>\n",
       "      <td>-0.5</td>\n",
       "      <td>122.0</td>\n",
       "      <td>117.0</td>\n",
       "      <td>8.00</td>\n",
       "    </tr>\n",
       "    <tr>\n",
       "      <th>16</th>\n",
       "      <td>Utah Jazz (1)</td>\n",
       "      <td>2</td>\n",
       "      <td>0</td>\n",
       "      <td>1.0</td>\n",
       "      <td>-0.5</td>\n",
       "      <td>127.5</td>\n",
       "      <td>114.0</td>\n",
       "      <td>16.50</td>\n",
       "    </tr>\n",
       "    <tr>\n",
       "      <th>17</th>\n",
       "      <td>New Orleans Pelicans (1)</td>\n",
       "      <td>2</td>\n",
       "      <td>0</td>\n",
       "      <td>1.0</td>\n",
       "      <td>-0.5</td>\n",
       "      <td>127.0</td>\n",
       "      <td>110.0</td>\n",
       "      <td>32.00</td>\n",
       "    </tr>\n",
       "    <tr>\n",
       "      <th>18</th>\n",
       "      <td>Portland Trail Blazers (1)</td>\n",
       "      <td>2</td>\n",
       "      <td>0</td>\n",
       "      <td>1.0</td>\n",
       "      <td>-0.5</td>\n",
       "      <td>114.0</td>\n",
       "      <td>109.5</td>\n",
       "      <td>1.33</td>\n",
       "    </tr>\n",
       "    <tr>\n",
       "      <th>19</th>\n",
       "      <td>Los Angeles Clippers (1)</td>\n",
       "      <td>1</td>\n",
       "      <td>0</td>\n",
       "      <td>1.0</td>\n",
       "      <td>—</td>\n",
       "      <td>103.0</td>\n",
       "      <td>97.0</td>\n",
       "      <td>-17.50</td>\n",
       "    </tr>\n",
       "    <tr>\n",
       "      <th>20</th>\n",
       "      <td>Minnesota Timberwolves (6)</td>\n",
       "      <td>1</td>\n",
       "      <td>1</td>\n",
       "      <td>0.5</td>\n",
       "      <td>0.5</td>\n",
       "      <td>120.5</td>\n",
       "      <td>120.0</td>\n",
       "      <td>16.33</td>\n",
       "    </tr>\n",
       "    <tr>\n",
       "      <th>21</th>\n",
       "      <td>Golden State Warriors (6)</td>\n",
       "      <td>1</td>\n",
       "      <td>1</td>\n",
       "      <td>0.5</td>\n",
       "      <td>0.5</td>\n",
       "      <td>123.0</td>\n",
       "      <td>118.5</td>\n",
       "      <td>-9.50</td>\n",
       "    </tr>\n",
       "    <tr>\n",
       "      <th>22</th>\n",
       "      <td>Denver Nuggets (6)</td>\n",
       "      <td>1</td>\n",
       "      <td>1</td>\n",
       "      <td>0.5</td>\n",
       "      <td>0.5</td>\n",
       "      <td>115.0</td>\n",
       "      <td>123.0</td>\n",
       "      <td>1.33</td>\n",
       "    </tr>\n",
       "    <tr>\n",
       "      <th>23</th>\n",
       "      <td>Phoenix Suns (6)</td>\n",
       "      <td>1</td>\n",
       "      <td>1</td>\n",
       "      <td>0.5</td>\n",
       "      <td>0.5</td>\n",
       "      <td>109.0</td>\n",
       "      <td>109.0</td>\n",
       "      <td>1.67</td>\n",
       "    </tr>\n",
       "    <tr>\n",
       "      <th>24</th>\n",
       "      <td>San Antonio Spurs (6)</td>\n",
       "      <td>1</td>\n",
       "      <td>1</td>\n",
       "      <td>0.5</td>\n",
       "      <td>0.5</td>\n",
       "      <td>119.5</td>\n",
       "      <td>131.5</td>\n",
       "      <td>-7.00</td>\n",
       "    </tr>\n",
       "    <tr>\n",
       "      <th>25</th>\n",
       "      <td>Dallas Mavericks (11)</td>\n",
       "      <td>0</td>\n",
       "      <td>1</td>\n",
       "      <td>0.0</td>\n",
       "      <td>1.0</td>\n",
       "      <td>105.0</td>\n",
       "      <td>107.0</td>\n",
       "      <td>-2.67</td>\n",
       "    </tr>\n",
       "    <tr>\n",
       "      <th>26</th>\n",
       "      <td>Sacramento Kings (11)</td>\n",
       "      <td>0</td>\n",
       "      <td>1</td>\n",
       "      <td>0.0</td>\n",
       "      <td>1.0</td>\n",
       "      <td>108.0</td>\n",
       "      <td>115.0</td>\n",
       "      <td>-3.33</td>\n",
       "    </tr>\n",
       "    <tr>\n",
       "      <th>27</th>\n",
       "      <td>Oklahoma City Thunder (11)</td>\n",
       "      <td>0</td>\n",
       "      <td>1</td>\n",
       "      <td>0.0</td>\n",
       "      <td>1.0</td>\n",
       "      <td>108.0</td>\n",
       "      <td>115.0</td>\n",
       "      <td>3.50</td>\n",
       "    </tr>\n",
       "    <tr>\n",
       "      <th>28</th>\n",
       "      <td>Houston Rockets (11)</td>\n",
       "      <td>0</td>\n",
       "      <td>2</td>\n",
       "      <td>0.0</td>\n",
       "      <td>1.5</td>\n",
       "      <td>114.5</td>\n",
       "      <td>123.0</td>\n",
       "      <td>-1.33</td>\n",
       "    </tr>\n",
       "    <tr>\n",
       "      <th>29</th>\n",
       "      <td>Los Angeles Lakers (11)</td>\n",
       "      <td>0</td>\n",
       "      <td>2</td>\n",
       "      <td>0.0</td>\n",
       "      <td>1.5</td>\n",
       "      <td>103.0</td>\n",
       "      <td>113.0</td>\n",
       "      <td>-17.67</td>\n",
       "    </tr>\n",
       "  </tbody>\n",
       "</table>\n",
       "</div>"
      ],
      "text/plain": [
       "                          Team  W  L  W/L%    GB   PS/G   PA/G    SRS\n",
       "0           Boston Celtics (1)  2  0   1.0     —  118.5  110.5  -6.67\n",
       "1       Washington Wizards (1)  2  0   1.0     —  108.0  103.5  -3.00\n",
       "2            Atlanta Hawks (1)  2  0   1.0     —  112.5  102.5   3.00\n",
       "3          Milwaukee Bucks (1)  1  0   1.0   0.5   90.0   88.0 -13.67\n",
       "4        Charlotte Hornets (5)  1  1   0.5   1.0  120.5  113.0  19.33\n",
       "5            Chicago Bulls (5)  1  1   0.5   1.0  108.0  105.0  -5.67\n",
       "6          Toronto Raptors (5)  1  1   0.5   1.0  106.5  107.0   6.00\n",
       "7          Detroit Pistons (5)  1  1   0.5   1.0  109.5  119.5 -11.00\n",
       "8          New York Knicks (5)  1  1   0.5   1.0  121.0  110.5  10.67\n",
       "9            Brooklyn Nets (5)  1  1   0.5   1.0  108.5  117.5   9.33\n",
       "10    Cleveland Cavaliers (11)  0  1   0.0   1.5  105.0  108.0   2.33\n",
       "11         Indiana Pacers (11)  0  2   0.0   2.0  120.5  125.5 -10.67\n",
       "12             Miami Heat (11)  0  2   0.0   2.0  106.0  113.5 -13.00\n",
       "13          Orlando Magic (11)  0  2   0.0   2.0  103.5  110.5  -9.33\n",
       "14     Philadelphia 76ers (11)  0  2   0.0   2.0  102.5  108.0 -15.00\n",
       "15       Memphis Grizzlies (1)  2  0   1.0  -0.5  122.0  117.0   8.00\n",
       "16               Utah Jazz (1)  2  0   1.0  -0.5  127.5  114.0  16.50\n",
       "17    New Orleans Pelicans (1)  2  0   1.0  -0.5  127.0  110.0  32.00\n",
       "18  Portland Trail Blazers (1)  2  0   1.0  -0.5  114.0  109.5   1.33\n",
       "19    Los Angeles Clippers (1)  1  0   1.0     —  103.0   97.0 -17.50\n",
       "20  Minnesota Timberwolves (6)  1  1   0.5   0.5  120.5  120.0  16.33\n",
       "21   Golden State Warriors (6)  1  1   0.5   0.5  123.0  118.5  -9.50\n",
       "22          Denver Nuggets (6)  1  1   0.5   0.5  115.0  123.0   1.33\n",
       "23            Phoenix Suns (6)  1  1   0.5   0.5  109.0  109.0   1.67\n",
       "24       San Antonio Spurs (6)  1  1   0.5   0.5  119.5  131.5  -7.00\n",
       "25       Dallas Mavericks (11)  0  1   0.0   1.0  105.0  107.0  -2.67\n",
       "26       Sacramento Kings (11)  0  1   0.0   1.0  108.0  115.0  -3.33\n",
       "27  Oklahoma City Thunder (11)  0  1   0.0   1.0  108.0  115.0   3.50\n",
       "28        Houston Rockets (11)  0  2   0.0   1.5  114.5  123.0  -1.33\n",
       "29     Los Angeles Lakers (11)  0  2   0.0   1.5  103.0  113.0 -17.67"
      ]
     },
     "execution_count": 16,
     "metadata": {},
     "output_type": "execute_result"
    }
   ],
   "source": [
    "df_all = pd.concat([df_E, df_W], axis=0)\n",
    "df_all.reset_index(drop=True, inplace=True)\n",
    "df_all"
   ]
  },
  {
   "cell_type": "code",
   "execution_count": 17,
   "id": "8f52a95e",
   "metadata": {},
   "outputs": [],
   "source": [
    "#df_all.loc[df_all.Team == 'Boston Celtics  (1)']\n",
    "\n",
    "df_all['Team'] = df_all['Team'].str.split()"
   ]
  },
  {
   "cell_type": "code",
   "execution_count": 18,
   "id": "bb91b3f0",
   "metadata": {},
   "outputs": [
    {
     "name": "stderr",
     "output_type": "stream",
     "text": [
      "/var/folders/dk/mc88r6b94c1bd2g4pvrrcxww0000gn/T/ipykernel_61397/909410152.py:2: SettingWithCopyWarning: \n",
      "A value is trying to be set on a copy of a slice from a DataFrame\n",
      "\n",
      "See the caveats in the documentation: https://pandas.pydata.org/pandas-docs/stable/user_guide/indexing.html#returning-a-view-versus-a-copy\n",
      "  df_all['Team'][index] = df_all['Team'][index][-2]\n"
     ]
    }
   ],
   "source": [
    "for index, row in df_all.iterrows():\n",
    "    df_all['Team'][index] = df_all['Team'][index][-2]"
   ]
  },
  {
   "cell_type": "code",
   "execution_count": 19,
   "id": "22fdf0d2",
   "metadata": {},
   "outputs": [],
   "source": [
    "df = df_all[['Team','W','L']]"
   ]
  },
  {
   "cell_type": "code",
   "execution_count": 20,
   "id": "a9d21721",
   "metadata": {},
   "outputs": [],
   "source": [
    "Assaf = {'W':['Warriors','Lakers','76ers','Hawks'],'L':['Pistons','Hornets'], 'score':'', 'name':'Assaf'}\n",
    "Iddo = {'W':['Bucks','Celtics','Suns','Bulls'], 'L':['Jazz','Kings'], 'score':'','name':'Iddo'}\n",
    "Liad = {'W': ['Cavaliers','Nets','Rapators','Pelicans'],'L':['Rockets','Thunder'], 'score':'','name':'Liad'}\n",
    "Yaniv = {'W':['Nuggets','Maverics','Wolves'],'L':['Spurs','Magic','Knicks'], 'score':'','name':'Yaniv'}\n",
    "Berger = {'W':['Grizzlies','Clippers','Heat'],'L':['Pacers','Wizards','Blazers'], 'score':'','name':'Berger'}"
   ]
  },
  {
   "cell_type": "code",
   "execution_count": 21,
   "id": "2c92be3e",
   "metadata": {},
   "outputs": [
    {
     "data": {
      "text/plain": [
       "[{'W': ['Warriors', 'Lakers', '76ers', 'Hawks'],\n",
       "  'L': ['Pistons', 'Hornets'],\n",
       "  'score': '',\n",
       "  'name': 'Assaf'},\n",
       " {'W': ['Bucks', 'Celtics', 'Suns', 'Bulls'],\n",
       "  'L': ['Jazz', 'Kings'],\n",
       "  'score': '',\n",
       "  'name': 'Iddo'},\n",
       " {'W': ['Cavaliers', 'Nets', 'Rapators', 'Pelicans'],\n",
       "  'L': ['Rockets', 'Thunder'],\n",
       "  'score': '',\n",
       "  'name': 'Liad'},\n",
       " {'W': ['Nuggets', 'Maverics', 'Wolves'],\n",
       "  'L': ['Spurs', 'Magic', 'Knicks'],\n",
       "  'score': '',\n",
       "  'name': 'Yaniv'},\n",
       " {'W': ['Grizzlies', 'Clippers', 'Heat'],\n",
       "  'L': ['Pacers', 'Wizards', 'Blazers'],\n",
       "  'score': '',\n",
       "  'name': 'Berger'}]"
      ]
     },
     "execution_count": 21,
     "metadata": {},
     "output_type": "execute_result"
    }
   ],
   "source": [
    "names = [Assaf, Iddo, Liad, Yaniv, Berger]\n",
    "names"
   ]
  },
  {
   "cell_type": "code",
   "execution_count": 22,
   "id": "0812e76e",
   "metadata": {},
   "outputs": [],
   "source": [
    "try:\n",
    "    import piplite\n",
    "    await piplite.install(['ipywidgets'])\n",
    "except ImportError:\n",
    "    pass\n",
    "import ipywidgets as widgets"
   ]
  },
  {
   "cell_type": "code",
   "execution_count": 23,
   "id": "71e8101c",
   "metadata": {},
   "outputs": [],
   "source": [
    "import ipywidgets as widgets"
   ]
  },
  {
   "cell_type": "code",
   "execution_count": 24,
   "id": "fce67bf5",
   "metadata": {},
   "outputs": [],
   "source": [
    "from IPython.display import display, clear_output"
   ]
  },
  {
   "cell_type": "code",
   "execution_count": 25,
   "id": "3f3f6b58",
   "metadata": {},
   "outputs": [],
   "source": [
    "button = widgets.Button(\n",
    "    description='Click me',\n",
    "    disabled=False,\n",
    "    button_style='', # 'success', 'info', 'warning', 'danger' or ''\n",
    "    tooltip='Send',\n",
    "    \n",
    "        )\n",
    "output = widgets.Output()\n",
    "\n",
    "def on_button_clicked(event):\n",
    "    with output:\n",
    "        clear_output()\n",
    "        for name in names:\n",
    "            name['score'] = df.loc[df['Team'].isin(name['W']),['W']].sum(axis=0)[0] + df.loc[df['Team'].isin(name['L']),['L']].sum(axis=0)[0]\n",
    "            print(str(name['name'])+ ' ' + str(name['score']))\n",
    "            \n",
    "button.on_click(on_button_clicked)\n",
    "\n",
    "vbox_result = widgets.VBox([button, output])"
   ]
  },
  {
   "cell_type": "code",
   "execution_count": 26,
   "id": "62258f6b",
   "metadata": {},
   "outputs": [],
   "source": [
    "vbox_text = widgets.VBox([vbox_result])"
   ]
  },
  {
   "cell_type": "code",
   "execution_count": 27,
   "id": "a1244897",
   "metadata": {},
   "outputs": [
    {
     "data": {
      "application/vnd.jupyter.widget-view+json": {
       "model_id": "15e986a29b604af48d26c18eaa6a6395",
       "version_major": 2,
       "version_minor": 0
      },
      "text/plain": [
       "HBox(children=(VBox(children=(VBox(children=(Button(description='Click me', style=ButtonStyle(), tooltip='Send…"
      ]
     },
     "metadata": {},
     "output_type": "display_data"
    }
   ],
   "source": [
    "page = widgets.HBox([vbox_text])\n",
    "display(page)\n"
   ]
  },
  {
   "cell_type": "code",
   "execution_count": 28,
   "id": "8165ba8c",
   "metadata": {},
   "outputs": [],
   "source": [
    "!pip freeze > requirements.txt"
   ]
  }
 ],
 "metadata": {
  "kernelspec": {
   "display_name": "Python 3 (ipykernel)",
   "language": "python",
   "name": "python3"
  },
  "language_info": {
   "codemirror_mode": {
    "name": "ipython",
    "version": 3
   },
   "file_extension": ".py",
   "mimetype": "text/x-python",
   "name": "python",
   "nbconvert_exporter": "python",
   "pygments_lexer": "ipython3",
   "version": "3.9.13"
  }
 },
 "nbformat": 4,
 "nbformat_minor": 5
}
